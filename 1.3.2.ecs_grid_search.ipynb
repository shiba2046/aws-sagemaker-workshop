{
 "cells": [
  {
   "cell_type": "markdown",
   "id": "5641b77f",
   "metadata": {},
   "source": [
    "# 使用 ECS 批量运行 Python 任务\n",
    "接下来将以网格搜索（grid search），展示如何使用 AWS SDK 批量运行 Python 任务。"
   ]
  },
  {
   "cell_type": "markdown",
   "id": "a258bf59",
   "metadata": {},
   "source": [
    "### 定义参数\n",
    "\n",
    "与之前的步骤一样，我们首先定义一些实验需要用到的环境变量："
   ]
  },
  {
   "cell_type": "code",
   "execution_count": 1,
   "id": "a415c6e4",
   "metadata": {},
   "outputs": [],
   "source": [
    "import boto3\n",
    "\n",
    "aws_account_id = boto3.client('sts').get_caller_identity().get('Account')\n",
    "repository_name = 'ecs-gridsearch'\n",
    "aws_region = 'us-east-1'\n",
    "my_name = 'peng'\n",
    "bucket = 'algo-trading-workshop-{}'.format(my_name)"
   ]
  },
  {
   "cell_type": "markdown",
   "id": "49d5e772",
   "metadata": {},
   "source": [
    "### 获取数据\n",
    "\n",
    "与回测示例中展示的一样，我们选择一支股票，然后通过 Athena 获取行情数据："
   ]
  },
  {
   "cell_type": "code",
   "execution_count": 2,
   "id": "4a095775",
   "metadata": {},
   "outputs": [],
   "source": [
    "# !pip install awswrangler\n",
    "\n",
    "import awswrangler as wr\n",
    "\n",
    "s3_output = wr.athena.create_athena_bucket()\n",
    "\n",
    "def execute_query(database, sql):\n",
    "    \n",
    "    query_execution_id = wr.athena.start_query_execution(database=database, sql=sql)\n",
    "    response = wr.athena.get_query_execution(query_execution_id=query_execution_id)\n",
    "    wr.athena.wait_query(query_execution_id=query_execution_id)\n",
    "    OutputLocation = response['ResultConfiguration']['OutputLocation']\n",
    "    \n",
    "    return OutputLocation"
   ]
  },
  {
   "cell_type": "code",
   "execution_count": 3,
   "id": "4cab4f41",
   "metadata": {},
   "outputs": [
    {
     "name": "stdout",
     "output_type": "stream",
     "text": [
      "s3://aws-athena-query-results-364198545638-us-east-1/8428bc9b-814b-4b0d-95bf-e25ae69cb3ab.csv\n"
     ]
    }
   ],
   "source": [
    "database = 'stock-data'\n",
    "table = 'stock_day'\n",
    "fields = '*'\n",
    "ticker = '600519'\n",
    "orderby = 'tradedate'\n",
    "sort = 'ASC'\n",
    "\n",
    "sql = f'''\n",
    "SELECT {fields}\n",
    "FROM \"{database}\".\"{table}\"\n",
    "WHERE ticker='{ticker}'\n",
    "AND tradedate>='2019-01-01'\n",
    "ORDER BY {orderby}\n",
    "{sort}\n",
    "'''\n",
    "\n",
    "output_location = execute_query(database, sql)\n",
    "print(output_location)"
   ]
  },
  {
   "cell_type": "code",
   "execution_count": 4,
   "id": "a7bd0146",
   "metadata": {},
   "outputs": [
    {
     "data": {
      "text/html": [
       "<div>\n",
       "<style scoped>\n",
       "    .dataframe tbody tr th:only-of-type {\n",
       "        vertical-align: middle;\n",
       "    }\n",
       "\n",
       "    .dataframe tbody tr th {\n",
       "        vertical-align: top;\n",
       "    }\n",
       "\n",
       "    .dataframe thead th {\n",
       "        text-align: right;\n",
       "    }\n",
       "</style>\n",
       "<table border=\"1\" class=\"dataframe\">\n",
       "  <thead>\n",
       "    <tr style=\"text-align: right;\">\n",
       "      <th></th>\n",
       "      <th>ticker</th>\n",
       "      <th>secid</th>\n",
       "      <th>open</th>\n",
       "      <th>high</th>\n",
       "      <th>low</th>\n",
       "      <th>close</th>\n",
       "      <th>volume</th>\n",
       "      <th>turnovervalue</th>\n",
       "      <th>openinterest</th>\n",
       "    </tr>\n",
       "    <tr>\n",
       "      <th>tradedate</th>\n",
       "      <th></th>\n",
       "      <th></th>\n",
       "      <th></th>\n",
       "      <th></th>\n",
       "      <th></th>\n",
       "      <th></th>\n",
       "      <th></th>\n",
       "      <th></th>\n",
       "      <th></th>\n",
       "    </tr>\n",
       "  </thead>\n",
       "  <tbody>\n",
       "    <tr>\n",
       "      <th>2019-01-02</th>\n",
       "      <td>600519</td>\n",
       "      <td>600519.SH</td>\n",
       "      <td>588.598322</td>\n",
       "      <td>590.547514</td>\n",
       "      <td>574.153066</td>\n",
       "      <td>577.983905</td>\n",
       "      <td>6228649.0</td>\n",
       "      <td>3.754388e+09</td>\n",
       "      <td>0</td>\n",
       "    </tr>\n",
       "    <tr>\n",
       "      <th>2019-01-03</th>\n",
       "      <td>600519</td>\n",
       "      <td>600519.SH</td>\n",
       "      <td>578.939203</td>\n",
       "      <td>580.569963</td>\n",
       "      <td>565.265905</td>\n",
       "      <td>569.318682</td>\n",
       "      <td>3097735.0</td>\n",
       "      <td>1.838179e+09</td>\n",
       "      <td>0</td>\n",
       "    </tr>\n",
       "    <tr>\n",
       "      <th>2019-01-04</th>\n",
       "      <td>600519</td>\n",
       "      <td>600519.SH</td>\n",
       "      <td>566.694027</td>\n",
       "      <td>586.369294</td>\n",
       "      <td>561.618406</td>\n",
       "      <td>580.898045</td>\n",
       "      <td>3768347.0</td>\n",
       "      <td>2.258501e+09</td>\n",
       "      <td>0</td>\n",
       "    </tr>\n",
       "    <tr>\n",
       "      <th>2019-01-07</th>\n",
       "      <td>600519</td>\n",
       "      <td>600519.SH</td>\n",
       "      <td>586.687727</td>\n",
       "      <td>590.547514</td>\n",
       "      <td>581.110333</td>\n",
       "      <td>584.265710</td>\n",
       "      <td>3475013.0</td>\n",
       "      <td>2.105981e+09</td>\n",
       "      <td>0</td>\n",
       "    </tr>\n",
       "    <tr>\n",
       "      <th>2019-01-08</th>\n",
       "      <td>600519</td>\n",
       "      <td>600519.SH</td>\n",
       "      <td>584.275359</td>\n",
       "      <td>590.547514</td>\n",
       "      <td>579.238336</td>\n",
       "      <td>583.590247</td>\n",
       "      <td>2883813.0</td>\n",
       "      <td>1.750413e+09</td>\n",
       "      <td>0</td>\n",
       "    </tr>\n",
       "  </tbody>\n",
       "</table>\n",
       "</div>"
      ],
      "text/plain": [
       "            ticker      secid        open        high         low       close  \\\n",
       "tradedate                                                                       \n",
       "2019-01-02  600519  600519.SH  588.598322  590.547514  574.153066  577.983905   \n",
       "2019-01-03  600519  600519.SH  578.939203  580.569963  565.265905  569.318682   \n",
       "2019-01-04  600519  600519.SH  566.694027  586.369294  561.618406  580.898045   \n",
       "2019-01-07  600519  600519.SH  586.687727  590.547514  581.110333  584.265710   \n",
       "2019-01-08  600519  600519.SH  584.275359  590.547514  579.238336  583.590247   \n",
       "\n",
       "               volume  turnovervalue  openinterest  \n",
       "tradedate                                           \n",
       "2019-01-02  6228649.0   3.754388e+09             0  \n",
       "2019-01-03  3097735.0   1.838179e+09             0  \n",
       "2019-01-04  3768347.0   2.258501e+09             0  \n",
       "2019-01-07  3475013.0   2.105981e+09             0  \n",
       "2019-01-08  2883813.0   1.750413e+09             0  "
      ]
     },
     "execution_count": 4,
     "metadata": {},
     "output_type": "execute_result"
    }
   ],
   "source": [
    "df = wr.s3.read_csv(path=[output_location])\n",
    "\n",
    "df['ticker'] = df['ticker'].apply(lambda x: str(x))\n",
    "df['ticker'] = df['ticker'].apply(lambda x: '0'*(6-len(x)) + x)\n",
    "df['openprice'] = df['openprice'] * df['accumadjfactor'] / df['accumadjfactor'].iloc[-1]\n",
    "df['closeprice'] = df['closeprice'] * df['accumadjfactor'] / df['accumadjfactor'].iloc[-1]\n",
    "df['highestprice'] = df['highestprice'] * df['accumadjfactor'] / df['accumadjfactor'].iloc[-1]\n",
    "df['lowestprice'] = df['lowestprice'] * df['accumadjfactor'] / df['accumadjfactor'].iloc[-1]\n",
    "df = df[df['isopen'] == True]\n",
    "df.drop('isopen', 1, inplace=True)\n",
    "df.drop('accumadjfactor', 1, inplace=True)\n",
    "df.set_index('tradedate', inplace=True)\n",
    "df.sort_index(0, inplace=True)\n",
    "\n",
    "df.rename(columns={'openprice': 'open'}, inplace=True)\n",
    "df.rename(columns={'closeprice': 'close'}, inplace=True)\n",
    "df.rename(columns={'highestprice': 'high'}, inplace=True)\n",
    "df.rename(columns={'lowestprice': 'low'}, inplace=True)\n",
    "df.rename(columns={'turnovervol': 'volume'}, inplace=True)\n",
    "df['openinterest'] = 0 # A股回测中一般并不考虑利率，通常可以直接设为 0\n",
    "df.head()"
   ]
  },
  {
   "cell_type": "markdown",
   "id": "98c6ea03",
   "metadata": {},
   "source": [
    "将结果保存在这个实验专用的路径下，这个路径还将用于保存批量任务的输入和输出结果："
   ]
  },
  {
   "cell_type": "code",
   "execution_count": 5,
   "id": "991e9615",
   "metadata": {},
   "outputs": [
    {
     "data": {
      "text/plain": [
       "{'paths': ['s3://algo-trading-workshop-peng/ecs-gridsearch/data.csv'],\n",
       " 'partitions_values': {}}"
      ]
     },
     "execution_count": 5,
     "metadata": {},
     "output_type": "execute_result"
    }
   ],
   "source": [
    "wr.s3.to_csv(df=df, path='s3://{}/{}/data.csv'.format(bucket, repository_name))"
   ]
  },
  {
   "cell_type": "markdown",
   "id": "e5dde16a",
   "metadata": {},
   "source": [
    "### 定义回测任务\n",
    "\n",
    "接下来我们将定义实验所用的超参，这个示例中将采用 range(5,10) 日快线和 range(10,30) 日慢线为例，一共构建 5x20=100 个并行任务。这里我们可以用一个 json 文件来存储每个并行任务的超参："
   ]
  },
  {
   "cell_type": "code",
   "execution_count": 6,
   "id": "e396eaca",
   "metadata": {},
   "outputs": [],
   "source": [
    "s3 = boto3.client('s3', region_name=aws_region)"
   ]
  },
  {
   "cell_type": "code",
   "execution_count": 7,
   "id": "0fd8f9fe",
   "metadata": {},
   "outputs": [],
   "source": [
    "import json\n",
    "\n",
    "counter = 0\n",
    "for i in range(5, 10):\n",
    "    for j in range(10, 30):\n",
    "        counter += 1\n",
    "        params = {\n",
    "            'fastmaperiod': i,\n",
    "            'slowmaperiod': j\n",
    "        }\n",
    "        s3.put_object(Body=json.dumps(params), Bucket=bucket, Key='{}/trial_{}/input/params.json'.format(repository_name, str(counter)))\n",
    "\n",
    "num_trials = counter"
   ]
  },
  {
   "cell_type": "markdown",
   "id": "e39a227f",
   "metadata": {},
   "source": [
    "接下来我们先准备一个回测脚本："
   ]
  },
  {
   "cell_type": "code",
   "execution_count": 8,
   "id": "3e3cf493",
   "metadata": {},
   "outputs": [],
   "source": [
    "!mkdir {repository_name}"
   ]
  },
  {
   "cell_type": "code",
   "execution_count": 9,
   "id": "ae392846",
   "metadata": {},
   "outputs": [
    {
     "name": "stdout",
     "output_type": "stream",
     "text": [
      "Writing ecs-gridsearch/backtest.py\n"
     ]
    }
   ],
   "source": [
    "%%writefile {repository_name}/backtest.py\n",
    "from __future__ import (absolute_import, division, print_function,\n",
    "                        unicode_literals)\n",
    "from datetime import datetime\n",
    "import json\n",
    "import numpy as np\n",
    "import pandas as pd\n",
    "import os.path\n",
    "import sys\n",
    "\n",
    "import backtrader as bt\n",
    "\n",
    "class MyStrategy(bt.Strategy):\n",
    "    ## 全局参数\n",
    "    params=(('fastmaperiod', 10),\n",
    "            ('slowmaperiod', 30),\n",
    "            ('printlog', False),)\n",
    "\n",
    "    ## 策略初始化\n",
    "    def __init__(self):\n",
    "\n",
    "        # 初始化交易指令、买卖价格和手续费\n",
    "        self.order = None\n",
    "        self.buyprice = None\n",
    "        self.buycomm = None\n",
    "\n",
    "        # 添加移动均线指标。Backtrader 集成了 talib，可以自动算出一些常见的技术指标\n",
    "        self.fastma = bt.indicators.SimpleMovingAverage(self.datas[0], period=self.params.fastmaperiod)\n",
    "        self.slowma = bt.indicators.SimpleMovingAverage(self.datas[0], period=self.params.slowmaperiod)\n",
    "        \n",
    "    ## 策略核心逻辑\n",
    "    def next(self):\n",
    "        # 记录收盘价\n",
    "#         self.log('收盘价：%.2f' % self.datas[0].close[0])\n",
    "        if self.order: # 检查是否有指令等待执行\n",
    "            return\n",
    "        # 检查是否持仓   \n",
    "        if not self.position: # 如果没有持仓\n",
    "            # 快线上穿慢线，执行买入\n",
    "            if self.fastma[0] > self.slowma[0]:\n",
    "                self.log('买入委托：%.2f' % self.datas[0].close[0])\n",
    "                #执行买入\n",
    "                self.size = int(self.broker.cash / self.datas[0].close[0])\n",
    "                self.order = self.buy(size=self.size)\n",
    "        else: # \n",
    "            # 快线下穿慢线，执行卖出\n",
    "            if self.fastma[0] < self.slowma[0]:\n",
    "                self.log('卖出委托：%.2f' % self.datas[0].close[0])\n",
    "                #执行卖出\n",
    "                self.order = self.sell(size=self.size)\n",
    "\n",
    "    ## 4、日志记录\n",
    "    # 交易记录日志（可选，默认不输出结果）\n",
    "    def log(self, txt, dt=None, doprint=False):\n",
    "        if self.params.printlog or doprint:\n",
    "            dt = dt or self.datas[0].datetime.date(0)\n",
    "            print(f'{dt.isoformat()},{txt}')\n",
    "\n",
    "    # 记录交易执行情况（可选，默认不输出结果）\n",
    "    def notify_order(self, order):\n",
    "        # 如果 order 为 submitted/accepted，返回空\n",
    "        if order.status in [order.Submitted, order.Accepted]:\n",
    "            return\n",
    "        # 如果 order 为 buy/sell executed，报告价格结果\n",
    "        if order.status in [order.Completed]: \n",
    "            if order.isbuy():\n",
    "                self.log(f'买入：\\n价格：%.2f,\\\n",
    "                交易金额：-%.2f,\\\n",
    "                手续费：%.2f' % (order.executed.price, order.executed.value, order.executed.comm))\n",
    "                self.buyprice = order.executed.price\n",
    "                self.buycomm = order.executed.comm\n",
    "            else:\n",
    "                self.log(f'卖出:\\n价格：%.2f,\\\n",
    "                交易金额：%.2f,\\\n",
    "                手续费：%.2f' % (order.executed.price, order.executed.price*self.size, order.executed.comm))\n",
    "            self.bar_executed = len(self) \n",
    "\n",
    "        # 如果指令取消/交易失败, 报告结果\n",
    "        elif order.status in [order.Canceled, order.Margin, order.Rejected]:\n",
    "            self.log('交易失败')\n",
    "        self.order = None\n",
    "\n",
    "    # 记录交易收益情况（可省略，默认不输出结果）\n",
    "    def notify_trade(self,trade):\n",
    "        if not trade.isclosed:\n",
    "            return\n",
    "        self.log(f'策略收益：\\n毛收益 {trade.pnl:.2f}, 净收益 {trade.pnlcomm:.2f}')\n",
    "\n",
    "    # 回测结束后输出结果（可省略，默认输出结果）\n",
    "    def stop(self):\n",
    "        self.log('(MA均线： %2d日  %2d日) 期末总资金 %.2f' %\n",
    "                 (self.params.fastmaperiod, self.params.slowmaperiod, self.broker.getvalue()), doprint=True)\n",
    "\n",
    "\n",
    "if __name__ == '__main__':\n",
    "    # 创建 Cerebro 对象\n",
    "    cerebro = bt.Cerebro()\n",
    "\n",
    "    df = pd.read_csv('/home/environment/data.csv')\n",
    "    df.set_index('tradedate', inplace=True)\n",
    "    \n",
    "    # 创建 Data Feed\n",
    "    df.index = pd.to_datetime(df.index)\n",
    "    start = df.index[0]\n",
    "    end = df.index[-1]\n",
    "    print(start, '-', end)\n",
    "    data = bt.feeds.PandasData(dataname=df, fromdate=start, todate=end)\n",
    "    # 将 Data Feed 添加至 Cerebro\n",
    "    cerebro.adddata(data)\n",
    "\n",
    "    # 添加策略 Cerebro\n",
    "    with open('/home/environment/input/params.json', 'r') as fin:\n",
    "        params = json.load(fin)\n",
    "    cerebro.addstrategy(MyStrategy, fastmaperiod=params['fastmaperiod'], slowmaperiod=params['slowmaperiod'], printlog=True)\n",
    "    \n",
    "    # 设置初始资金\n",
    "    cerebro.broker.setcash(100000.0)\n",
    "    # 设置手续费为万二\n",
    "    cerebro.broker.setcommission(commission=0.0002) \n",
    "\n",
    "    # 在开始时 print 初始账户价值\n",
    "    print('Starting Portfolio Value: %.2f' % cerebro.broker.getvalue())\n",
    "\n",
    "    # 运行回测流程\n",
    "    cerebro.run()\n",
    "\n",
    "    # 在结束时 print 最终账户价值\n",
    "    print('Final Portfolio Value: %.2f' % cerebro.broker.getvalue())\n",
    "    \n",
    "    # 输出最终账户价值和收益率\n",
    "    output = {\n",
    "        \"value\": cerebro.broker.getvalue(), \n",
    "        \"return\": float(cerebro.broker.getvalue())/1e5 - 1\n",
    "    }\n",
    "    with open('/home/environment/output/output.json', 'w') as fout:\n",
    "        json.dump(output, fout)"
   ]
  },
  {
   "cell_type": "markdown",
   "id": "4954a48c",
   "metadata": {},
   "source": [
    "### 创建镜像仓库和容器镜像\n",
    "\n",
    "接下来构建一个 python3 容器镜像和镜像仓库："
   ]
  },
  {
   "cell_type": "code",
   "execution_count": 10,
   "id": "e317421c",
   "metadata": {},
   "outputs": [],
   "source": [
    "ecs = boto3.client('ecs', region_name=aws_region)\n",
    "ecr = boto3.client('ecr', region_name=aws_region)"
   ]
  },
  {
   "cell_type": "code",
   "execution_count": 11,
   "id": "d5809408",
   "metadata": {},
   "outputs": [
    {
     "data": {
      "text/plain": [
       "{'repository': {'repositoryArn': 'arn:aws:ecr:us-east-1:364198545638:repository/ecs-gridsearch',\n",
       "  'registryId': '364198545638',\n",
       "  'repositoryName': 'ecs-gridsearch',\n",
       "  'repositoryUri': '364198545638.dkr.ecr.us-east-1.amazonaws.com/ecs-gridsearch',\n",
       "  'createdAt': datetime.datetime(2021, 12, 9, 7, 51, 5, tzinfo=tzlocal()),\n",
       "  'imageTagMutability': 'MUTABLE',\n",
       "  'imageScanningConfiguration': {'scanOnPush': False},\n",
       "  'encryptionConfiguration': {'encryptionType': 'AES256'}},\n",
       " 'ResponseMetadata': {'RequestId': 'a233cfd7-2d67-42a2-96bb-eadfd7f172d2',\n",
       "  'HTTPStatusCode': 200,\n",
       "  'HTTPHeaders': {'x-amzn-requestid': 'a233cfd7-2d67-42a2-96bb-eadfd7f172d2',\n",
       "   'date': 'Thu, 09 Dec 2021 07:51:05 GMT',\n",
       "   'content-type': 'application/x-amz-json-1.1',\n",
       "   'content-length': '396'},\n",
       "  'RetryAttempts': 0}}"
      ]
     },
     "execution_count": 11,
     "metadata": {},
     "output_type": "execute_result"
    }
   ],
   "source": [
    "ecr.create_repository(repositoryName=repository_name)"
   ]
  },
  {
   "cell_type": "code",
   "execution_count": 12,
   "id": "c4537813",
   "metadata": {},
   "outputs": [
    {
     "name": "stdout",
     "output_type": "stream",
     "text": [
      "Writing ecs-gridsearch/Dockerfile\n"
     ]
    }
   ],
   "source": [
    "%%writefile {repository_name}/Dockerfile\n",
    "FROM python:3.6\n",
    "\n",
    "RUN pip --no-cache-dir install \\\n",
    "    backtrader\\\n",
    "    boto3 \\\n",
    "    pandas\n",
    "\n",
    "RUN curl \"https://awscli.amazonaws.com/awscli-exe-linux-x86_64.zip\" -o \"awscliv2.zip\" && unzip awscliv2.zip && ./aws/install && rm awscliv2.zip && rm -rf aws/\n",
    "\n",
    "ENV ENVIRONMENT=\"/home/environment\"\n",
    "RUN mkdir -p $ENVIRONMENT/input\n",
    "RUN mkdir -p $ENVIRONMENT/output\n",
    "COPY backtest.py $ENVIRONMENT/\n",
    "CMD aws s3 cp s3://$BUCKET/$PREFIX/trial_$TRIAL/input/ $ENVIRONMENT/input/ --recursive && \\\n",
    "    aws s3 cp s3://$BUCKET/$PREFIX/data.csv $ENVIRONMENT/data.csv && \\\n",
    "    python $ENVIRONMENT/backtest.py && \\\n",
    "    aws s3 cp $ENVIRONMENT/output/ s3://$BUCKET/$PREFIX/trial_$TRIAL/output/ --recursive"
   ]
  },
  {
   "cell_type": "code",
   "execution_count": null,
   "id": "6dd33cbf",
   "metadata": {},
   "outputs": [],
   "source": [
    "!docker build {repository_name} -t {repository_name}"
   ]
  },
  {
   "cell_type": "code",
   "execution_count": 14,
   "id": "55a09cd7",
   "metadata": {},
   "outputs": [],
   "source": [
    "!docker tag {repository_name} {aws_account_id}.dkr.ecr.{aws_region}.amazonaws.com/{repository_name}"
   ]
  },
  {
   "cell_type": "code",
   "execution_count": 15,
   "id": "a50a7b89",
   "metadata": {},
   "outputs": [
    {
     "name": "stdout",
     "output_type": "stream",
     "text": [
      "REPOSITORY                                                             TAG       IMAGE ID       CREATED          SIZE\n",
      "364198545638.dkr.ecr.us-east-1.amazonaws.com/ecs-gridsearch            latest    198b80057241   54 seconds ago   1.23GB\n",
      "ecs-gridsearch                                                         latest    198b80057241   54 seconds ago   1.23GB\n",
      "364198545638.dkr.ecr.us-east-1.amazonaws.com/ecs-demo-php-simple-app   latest    b7100a00e52a   22 minutes ago   529MB\n",
      "ecs-demo-php-simple-app                                                latest    b7100a00e52a   22 minutes ago   529MB\n",
      "python                                                                 3.6       ea3a963a14d5   6 days ago       902MB\n",
      "public.ecr.aws/amazonlinux/amazonlinux                                 2         d7b15f736b7e   7 days ago       164MB\n"
     ]
    }
   ],
   "source": [
    "!docker images"
   ]
  },
  {
   "cell_type": "markdown",
   "id": "26492839",
   "metadata": {},
   "source": [
    "同样的，将镜像 push 到 ECR："
   ]
  },
  {
   "cell_type": "code",
   "execution_count": 16,
   "id": "4bfc862d",
   "metadata": {},
   "outputs": [
    {
     "name": "stdout",
     "output_type": "stream",
     "text": [
      "WARNING! Your password will be stored unencrypted in /home/ec2-user/.docker/config.json.\n",
      "Configure a credential helper to remove this warning. See\n",
      "https://docs.docker.com/engine/reference/commandline/login/#credentials-store\n",
      "\n",
      "Login Succeeded\n"
     ]
    }
   ],
   "source": [
    "!aws ecr get-login-password | docker login --username AWS --password-stdin {aws_account_id}.dkr.ecr.{aws_region}.amazonaws.com"
   ]
  },
  {
   "cell_type": "code",
   "execution_count": 17,
   "id": "dc88b021",
   "metadata": {},
   "outputs": [
    {
     "name": "stdout",
     "output_type": "stream",
     "text": [
      "Using default tag: latest\n",
      "The push refers to repository [364198545638.dkr.ecr.us-east-1.amazonaws.com/ecs-gridsearch]\n",
      "\n",
      "\u001b[1Bdfaacd8c: Preparing \n",
      "\u001b[1Ba74eb2c3: Preparing \n",
      "\u001b[1B0d903ce1: Preparing \n",
      "\u001b[1B8498e588: Preparing \n",
      "\u001b[1Bc5f9f96f: Preparing \n",
      "\u001b[1B46b4d89f: Preparing \n",
      "\u001b[1B703d63f9: Preparing \n",
      "\u001b[1B4bfcf7fc: Preparing \n",
      "\u001b[1B6d85febd: Preparing \n",
      "\u001b[1B1e7436b1: Preparing \n",
      "\u001b[1B1d7cb46b: Preparing \n",
      "\u001b[1B0de04cb3: Preparing \n",
      "\u001b[1B336bbfff: Preparing \n",
      "\u001b[5B1e7436b1: Pushed   537.7MB/528.4MB\u001b[14A\u001b[2K\u001b[10A\u001b[2K\u001b[11A\u001b[2K\u001b[11A\u001b[2K\u001b[10A\u001b[2K\u001b[10A\u001b[2K\u001b[11A\u001b[2K\u001b[10A\u001b[2K\u001b[10A\u001b[2K\u001b[11A\u001b[2K\u001b[10A\u001b[2K\u001b[11A\u001b[2K\u001b[10A\u001b[2K\u001b[11A\u001b[2K\u001b[14A\u001b[2K\u001b[10A\u001b[2K\u001b[10A\u001b[2K\u001b[10A\u001b[2K\u001b[11A\u001b[2K\u001b[10A\u001b[2K\u001b[11A\u001b[2K\u001b[10A\u001b[2K\u001b[10A\u001b[2K\u001b[11A\u001b[2K\u001b[10A\u001b[2K\u001b[11A\u001b[2K\u001b[10A\u001b[2K\u001b[8A\u001b[2K\u001b[11A\u001b[2K\u001b[11A\u001b[2K\u001b[10A\u001b[2K\u001b[9A\u001b[2K\u001b[11A\u001b[2K\u001b[9A\u001b[2K\u001b[10A\u001b[2K\u001b[9A\u001b[2K\u001b[10A\u001b[2K\u001b[9A\u001b[2K\u001b[10A\u001b[2K\u001b[9A\u001b[2K\u001b[11A\u001b[2K\u001b[7A\u001b[2K\u001b[10A\u001b[2K\u001b[9A\u001b[2K\u001b[11A\u001b[2K\u001b[9A\u001b[2K\u001b[11A\u001b[2K\u001b[10A\u001b[2K\u001b[9A\u001b[2K\u001b[11A\u001b[2K\u001b[10A\u001b[2K\u001b[11A\u001b[2K\u001b[8A\u001b[2K\u001b[10A\u001b[2K\u001b[11A\u001b[2K\u001b[9A\u001b[2K\u001b[7A\u001b[2K\u001b[9A\u001b[2K\u001b[7A\u001b[2K\u001b[10A\u001b[2K\u001b[11A\u001b[2K\u001b[9A\u001b[2K\u001b[6A\u001b[2K\u001b[7A\u001b[2K\u001b[10A\u001b[2K\u001b[6A\u001b[2K\u001b[7A\u001b[2K\u001b[11A\u001b[2K\u001b[6A\u001b[2K\u001b[7A\u001b[2K\u001b[11A\u001b[2K\u001b[9A\u001b[2K\u001b[10A\u001b[2K\u001b[7A\u001b[2K\u001b[6A\u001b[2K\u001b[7A\u001b[2K\u001b[9A\u001b[2K\u001b[10A\u001b[2K\u001b[7A\u001b[2K\u001b[9A\u001b[2K\u001b[10A\u001b[2K\u001b[9A\u001b[2K\u001b[7A\u001b[2K\u001b[11A\u001b[2K\u001b[6A\u001b[2K\u001b[11A\u001b[2K\u001b[9A\u001b[2K\u001b[11A\u001b[2K\u001b[10A\u001b[2K\u001b[11A\u001b[2K\u001b[7A\u001b[2K\u001b[6A\u001b[2K\u001b[6A\u001b[2K\u001b[11A\u001b[2K\u001b[10A\u001b[2K\u001b[9A\u001b[2K\u001b[11A\u001b[2K\u001b[6A\u001b[2K\u001b[10A\u001b[2K\u001b[6A\u001b[2K\u001b[9A\u001b[2K\u001b[11A\u001b[2K\u001b[6A\u001b[2K\u001b[10A\u001b[2K\u001b[11A\u001b[2K\u001b[10A\u001b[2K\u001b[6A\u001b[2K\u001b[11A\u001b[2K\u001b[6A\u001b[2K\u001b[11A\u001b[2K\u001b[7A\u001b[2K\u001b[11A\u001b[2K\u001b[7A\u001b[2K\u001b[11A\u001b[2K\u001b[7A\u001b[2K\u001b[9A\u001b[2K\u001b[10A\u001b[2K\u001b[11A\u001b[2K\u001b[10A\u001b[2K\u001b[10A\u001b[2K\u001b[7A\u001b[2K\u001b[10A\u001b[2K\u001b[7A\u001b[2K\u001b[10A\u001b[2K\u001b[7A\u001b[2K\u001b[10A\u001b[2K\u001b[7A\u001b[2K\u001b[7A\u001b[2K\u001b[6A\u001b[2K\u001b[5A\u001b[2K\u001b[10A\u001b[2K\u001b[7A\u001b[2K\u001b[7A\u001b[2K\u001b[10A\u001b[2K\u001b[11A\u001b[2K\u001b[7A\u001b[2K\u001b[10A\u001b[2K\u001b[4A\u001b[2K\u001b[5A\u001b[2K\u001b[10A\u001b[2K\u001b[7A\u001b[2K\u001b[5A\u001b[2K\u001b[10A\u001b[2K\u001b[5A\u001b[2K\u001b[7A\u001b[2K\u001b[4A\u001b[2K\u001b[5A\u001b[2K\u001b[7A\u001b[2K\u001b[4A\u001b[2K\u001b[10A\u001b[2K\u001b[4A\u001b[2K\u001b[10A\u001b[2K\u001b[7A\u001b[2K\u001b[5A\u001b[2K\u001b[4A\u001b[2K\u001b[7A\u001b[2K\u001b[10A\u001b[2K\u001b[5A\u001b[2K\u001b[7A\u001b[2K\u001b[5A\u001b[2K\u001b[5A\u001b[2K\u001b[10A\u001b[2K\u001b[4A\u001b[2K\u001b[4A\u001b[2K\u001b[5A\u001b[2K\u001b[4A\u001b[2K\u001b[10A\u001b[2K\u001b[4A\u001b[2K\u001b[10A\u001b[2K\u001b[4A\u001b[2K\u001b[5A\u001b[2K\u001b[4A\u001b[2K\u001b[5A\u001b[2K\u001b[11A\u001b[2K\u001b[5A\u001b[2K\u001b[4A\u001b[2K\u001b[10A\u001b[2K\u001b[4A\u001b[2K\u001b[4A\u001b[2K\u001b[5A\u001b[2K\u001b[4A\u001b[2K\u001b[5A\u001b[2K\u001b[4A\u001b[2K\u001b[10A\u001b[2K\u001b[4A\u001b[2K\u001b[5A\u001b[2K\u001b[4A\u001b[2K\u001b[5A\u001b[2K\u001b[4A\u001b[2K\u001b[3A\u001b[2K\u001b[4A\u001b[2K\u001b[10A\u001b[2K\u001b[4A\u001b[2K\u001b[5A\u001b[2K\u001b[3A\u001b[2K\u001b[5A\u001b[2K\u001b[10A\u001b[2K\u001b[5A\u001b[2K\u001b[10A\u001b[2K\u001b[3A\u001b[2K\u001b[10A\u001b[2K\u001b[3A\u001b[2K\u001b[5A\u001b[2K\u001b[4A\u001b[2K\u001b[3A\u001b[2K\u001b[3A\u001b[2K\u001b[11A\u001b[2K\u001b[3A\u001b[2K\u001b[4A\u001b[2K\u001b[3A\u001b[2K\u001b[10A\u001b[2K\u001b[3A\u001b[2K\u001b[4A\u001b[2K\u001b[3A\u001b[2K\u001b[10A\u001b[2K\u001b[3A\u001b[2K\u001b[10A\u001b[2K\u001b[4A\u001b[2K\u001b[10A\u001b[2K\u001b[3A\u001b[2K\u001b[5A\u001b[2K\u001b[4A\u001b[2K\u001b[5A\u001b[2K\u001b[10A\u001b[2K\u001b[4A\u001b[2K\u001b[11A\u001b[2K\u001b[10A\u001b[2K\u001b[4A\u001b[2K\u001b[10A\u001b[2K\u001b[11A\u001b[2K\u001b[10A\u001b[2K\u001b[4A\u001b[2K\u001b[5A\u001b[2K\u001b[10A\u001b[2K\u001b[4A\u001b[2K\u001b[10A\u001b[2K\u001b[5A\u001b[2K\u001b[11A\u001b[2K\u001b[5A\u001b[2K\u001b[3A\u001b[2K\u001b[11A\u001b[2K\u001b[10A\u001b[2K\u001b[5A\u001b[2K\u001b[4A\u001b[2K\u001b[10A\u001b[2K\u001b[5A\u001b[2K\u001b[10A\u001b[2K\u001b[5A\u001b[2K\u001b[10A\u001b[2K\u001b[4A\u001b[2K\u001b[2A\u001b[2K\u001b[2A\u001b[2K\u001b[4A\u001b[2K\u001b[2A\u001b[2K\u001b[5A\u001b[2K\u001b[2A\u001b[2K\u001b[11A\u001b[2K\u001b[4A\u001b[2K\u001b[10A\u001b[2K\u001b[2A\u001b[2K\u001b[5A\u001b[2K\u001b[4A\u001b[2K\u001b[5A\u001b[2K\u001b[4A\u001b[2K\u001b[2A\u001b[2K\u001b[5A\u001b[2K\u001b[2A\u001b[2K\u001b[10A\u001b[2K\u001b[2A\u001b[2K\u001b[10A\u001b[2K\u001b[2A\u001b[2K\u001b[5A\u001b[2K\u001b[4A\u001b[2K\u001b[2A\u001b[2K\u001b[2A\u001b[2K\u001b[4A\u001b[2K\u001b[2A\u001b[2K\u001b[2A\u001b[2K\u001b[4A\u001b[2K\u001b[4A\u001b[2K\u001b[10A\u001b[2K\u001b[4A\u001b[2K\u001b[10A\u001b[2K\u001b[5A\u001b[2K\u001b[10A\u001b[2K\u001b[10A\u001b[2K\u001b[10A\u001b[2K\u001b[11A\u001b[2K\u001b[10A\u001b[2K\u001b[4A\u001b[2K\u001b[10A\u001b[2K\u001b[11A\u001b[2K\u001b[10A\u001b[2K\u001b[11A\u001b[2K\u001b[10A\u001b[2K\u001b[11A\u001b[2K\u001b[10A\u001b[2K\u001b[11A\u001b[2K\u001b[10A\u001b[2K\u001b[11A\u001b[2K\u001b[10A\u001b[2K\u001b[5A\u001b[2K\u001b[11A\u001b[2K\u001b[10A\u001b[2K\u001b[4A\u001b[2K\u001b[11A\u001b[2K\u001b[1A\u001b[2K\u001b[11A\u001b[2K\u001b[4A\u001b[2K\u001b[5A\u001b[2K\u001b[1A\u001b[2K\u001b[4A\u001b[2K\u001b[5A\u001b[2K\u001b[4A\u001b[2K\u001b[10A\u001b[2K\u001b[4A\u001b[2K\u001b[1A\u001b[2K\u001b[5A\u001b[2K\u001b[11A\u001b[2K\u001b[4A\u001b[2K\u001b[11A\u001b[2K\u001b[11A\u001b[2K\u001b[1A\u001b[2K\u001b[10A\u001b[2K\u001b[11A\u001b[2K\u001b[4A\u001b[2K\u001b[1A\u001b[2K\u001b[11A\u001b[2K\u001b[4A\u001b[2K\u001b[11A\u001b[2K\u001b[5A\u001b[2K\u001b[11A\u001b[2K\u001b[10A\u001b[2K\u001b[11A\u001b[2K\u001b[4A\u001b[2K\u001b[1A\u001b[2K\u001b[11A\u001b[2K\u001b[1A\u001b[2K\u001b[4A\u001b[2K\u001b[5A\u001b[2K\u001b[1A\u001b[2K\u001b[11A\u001b[2K\u001b[10A\u001b[2K\u001b[1A\u001b[2K\u001b[5A\u001b[2K\u001b[1A\u001b[2K\u001b[11A\u001b[2K\u001b[1A\u001b[2K\u001b[11A\u001b[2K\u001b[1A\u001b[2K\u001b[11A\u001b[2K\u001b[1A\u001b[2K\u001b[1A\u001b[2K\u001b[11A\u001b[2K\u001b[4A\u001b[2K\u001b[1A\u001b[2K\u001b[4A\u001b[2K\u001b[1A\u001b[2K\u001b[4A\u001b[2K\u001b[5A\u001b[2K\u001b[4A\u001b[2K\u001b[5A\u001b[2K\u001b[1A\u001b[2K\u001b[1A\u001b[2K\u001b[5A\u001b[2K\u001b[1A\u001b[2K\u001b[4A\u001b[2K\u001b[5A\u001b[2K\u001b[4A\u001b[2K\u001b[1A\u001b[2K\u001b[4A\u001b[2K\u001b[1A\u001b[2K\u001b[1A\u001b[2K\u001b[5A\u001b[2K\u001b[1A\u001b[2K\u001b[11A\u001b[2K\u001b[5A\u001b[2K\u001b[4A\u001b[2K\u001b[5A\u001b[2K\u001b[4A\u001b[2K\u001b[1A\u001b[2K\u001b[4A\u001b[2K\u001b[1A\u001b[2K\u001b[4A\u001b[2K\u001b[1A\u001b[2K\u001b[4A\u001b[2K\u001b[1A\u001b[2K\u001b[4A\u001b[2K\u001b[1A\u001b[2K\u001b[4A\u001b[2K\u001b[1A\u001b[2K\u001b[4A\u001b[2K\u001b[1A\u001b[2K\u001b[4A\u001b[2K\u001b[1A\u001b[2K\u001b[4A\u001b[2K\u001b[4A\u001b[2K\u001b[5A\u001b[2K\u001b[4A\u001b[2K\u001b[1A\u001b[2K\u001b[5A\u001b[2K\u001b[5A\u001b[2K\u001b[4A\u001b[2K\u001b[5A\u001b[2K\u001b[4A\u001b[2K\u001b[5A\u001b[2K\u001b[4A\u001b[2K\u001b[1A\u001b[2K\u001b[5A\u001b[2K\u001b[4A\u001b[2K\u001b[5A\u001b[2K\u001b[5A\u001b[2K\u001b[5A\u001b[2K\u001b[4A\u001b[2K\u001b[5A\u001b[2K\u001b[5A\u001b[2K\u001b[4A\u001b[2K\u001b[5A\u001b[2K\u001b[4A\u001b[2K\u001b[5A\u001b[2K\u001b[4A\u001b[2K\u001b[5A\u001b[2K\u001b[4A\u001b[2K\u001b[5A\u001b[2K\u001b[1A\u001b[2K\u001b[5A\u001b[2K\u001b[4A\u001b[2K\u001b[5A\u001b[2K\u001b[4A\u001b[2K\u001b[4A\u001b[2K\u001b[1A\u001b[2K\u001b[4A\u001b[2K\u001b[5A\u001b[2K\u001b[1A\u001b[2K\u001b[4A\u001b[2K\u001b[1A\u001b[2K\u001b[4A\u001b[2K\u001b[4A\u001b[2K\u001b[5A\u001b[2K\u001b[4A\u001b[2K\u001b[5A\u001b[2K\u001b[4A\u001b[2K\u001b[5A\u001b[2K\u001b[4A\u001b[2K\u001b[5A\u001b[2K\u001b[4A\u001b[2K\u001b[5A\u001b[2K\u001b[4A\u001b[2K\u001b[5A\u001b[2K\u001b[4A\u001b[2K\u001b[5A\u001b[2K\u001b[1A\u001b[2K\u001b[5A\u001b[2K\u001b[4A\u001b[2K\u001b[5A\u001b[2K\u001b[1A\u001b[2K\u001b[5A\u001b[2K\u001b[4A\u001b[2K\u001b[1A\u001b[2K\u001b[4A\u001b[2K\u001b[5A\u001b[2K\u001b[4A\u001b[2K\u001b[5A\u001b[2K\u001b[5A\u001b[2K\u001b[1A\u001b[2K\u001b[5A\u001b[2K\u001b[4A\u001b[2K\u001b[1A\u001b[2K\u001b[5A\u001b[2K\u001b[1A\u001b[2K\u001b[4A\u001b[2K\u001b[4A\u001b[2K\u001b[5A\u001b[2K\u001b[1A\u001b[2K\u001b[4A\u001b[2K\u001b[5A\u001b[2K\u001b[1A\u001b[2K\u001b[5A\u001b[2K\u001b[4A\u001b[2K\u001b[1A\u001b[2K\u001b[1A\u001b[2K\u001b[5A\u001b[2K\u001b[1A\u001b[2K\u001b[5A\u001b[2K\u001b[5A\u001b[2K\u001b[1A\u001b[2K\u001b[1A\u001b[2K\u001b[5A\u001b[2K\u001b[5A\u001b[2K\u001b[1A\u001b[2K\u001b[4A\u001b[2K\u001b[1A\u001b[2K\u001b[5A\u001b[2K\u001b[1A\u001b[2K\u001b[5A\u001b[2K\u001b[1A\u001b[2K\u001b[5A\u001b[2K\u001b[1A\u001b[2K\u001b[5A\u001b[2K\u001b[1A\u001b[2K\u001b[5A\u001b[2K\u001b[1A\u001b[2K\u001b[5A\u001b[2K\u001b[1A\u001b[2K\u001b[1A\u001b[2K\u001b[1A\u001b[2K\u001b[5A\u001b[2K\u001b[1A\u001b[2K\u001b[5A\u001b[2K\u001b[5A\u001b[2K\u001b[5A\u001b[2K\u001b[1A\u001b[2K\u001b[5A\u001b[2K\u001b[1A\u001b[2K\u001b[5A\u001b[2K\u001b[1A\u001b[2K\u001b[5A\u001b[2K\u001b[1A\u001b[2K\u001b[5A\u001b[2K\u001b[1A\u001b[2K\u001b[1A\u001b[2K\u001b[5A\u001b[2K\u001b[1A\u001b[2K\u001b[1A\u001b[2K\u001b[5A\u001b[2K\u001b[1A\u001b[2K\u001b[5A\u001b[2K\u001b[1A\u001b[2K\u001b[5A\u001b[2K\u001b[5A\u001b[2K\u001b[1A\u001b[2K\u001b[5A\u001b[2K\u001b[1A\u001b[2K\u001b[5A\u001b[2K\u001b[5A\u001b[2K\u001b[5A\u001b[2K\u001b[1A\u001b[2K\u001b[5A\u001b[2K\u001b[1A\u001b[2K\u001b[5A\u001b[2K\u001b[1A\u001b[2K\u001b[5A\u001b[2K\u001b[1A\u001b[2K\u001b[1A\u001b[2K\u001b[5A\u001b[2K\u001b[5A\u001b[2K\u001b[5A\u001b[2K\u001b[5A\u001b[2K\u001b[5A\u001b[2K\u001b[1A\u001b[2K\u001b[5A\u001b[2K\u001b[5A\u001b[2K\u001b[5A\u001b[2K\u001b[5A\u001b[2K\u001b[5A\u001b[2K\u001b[5A\u001b[2K\u001b[5A\u001b[2K\u001b[5A\u001b[2K\u001b[5A\u001b[2K\u001b[5A\u001b[2K\u001b[5A\u001b[2K\u001b[5A\u001b[2K\u001b[5A\u001b[2K\u001b[5A\u001b[2K\u001b[5A\u001b[2K\u001b[5A\u001b[2K\u001b[5A\u001b[2K\u001b[5A\u001b[2K\u001b[5A\u001b[2K\u001b[5A\u001b[2K\u001b[5A\u001b[2K\u001b[5A\u001b[2K\u001b[5A\u001b[2K\u001b[5A\u001b[2K\u001b[5A\u001b[2K\u001b[5A\u001b[2K\u001b[5A\u001b[2K\u001b[5A\u001b[2K\u001b[5A\u001b[2K\u001b[5A\u001b[2K\u001b[5A\u001b[2K\u001b[5A\u001b[2K\u001b[5A\u001b[2K\u001b[5A\u001b[2K\u001b[5A\u001b[2K\u001b[5A\u001b[2K\u001b[5A\u001b[2K\u001b[5A\u001b[2K\u001b[5A\u001b[2K\u001b[5A\u001b[2K\u001b[5A\u001b[2K\u001b[5A\u001b[2K\u001b[5A\u001b[2K\u001b[5A\u001b[2K\u001b[5A\u001b[2K\u001b[5A\u001b[2K\u001b[5A\u001b[2K\u001b[5A\u001b[2K\u001b[5A\u001b[2K\u001b[5A\u001b[2K\u001b[5A\u001b[2K\u001b[5A\u001b[2K\u001b[5A\u001b[2K\u001b[5A\u001b[2K\u001b[5A\u001b[2K\u001b[5A\u001b[2K\u001b[5A\u001b[2K\u001b[5A\u001b[2K\u001b[5A\u001b[2K\u001b[5A\u001b[2K\u001b[5A\u001b[2K\u001b[5A\u001b[2K\u001b[5A\u001b[2K\u001b[5A\u001b[2K\u001b[5A\u001b[2K\u001b[5A\u001b[2K\u001b[5A\u001b[2K\u001b[5A\u001b[2K\u001b[5A\u001b[2K\u001b[5A\u001b[2K\u001b[5A\u001b[2K\u001b[5A\u001b[2K\u001b[5A\u001b[2K\u001b[5A\u001b[2K\u001b[5A\u001b[2K\u001b[5A\u001b[2K\u001b[5A\u001b[2K\u001b[5A\u001b[2K\u001b[5A\u001b[2K\u001b[5A\u001b[2K\u001b[5A\u001b[2K\u001b[5A\u001b[2K\u001b[5A\u001b[2K\u001b[5A\u001b[2K\u001b[5A\u001b[2K\u001b[5A\u001b[2K\u001b[5A\u001b[2K\u001b[5A\u001b[2K\u001b[5A\u001b[2K\u001b[5A\u001b[2K\u001b[5A\u001b[2K\u001b[5A\u001b[2K\u001b[5A\u001b[2K\u001b[5A\u001b[2K\u001b[5A\u001b[2K\u001b[5A\u001b[2K\u001b[5A\u001b[2K\u001b[5A\u001b[2K\u001b[5A\u001b[2K\u001b[5A\u001b[2K\u001b[5A\u001b[2K\u001b[5A\u001b[2K\u001b[5A\u001b[2K\u001b[5A\u001b[2K\u001b[5A\u001b[2K\u001b[5A\u001b[2K\u001b[5A\u001b[2K\u001b[5A\u001b[2K\u001b[5A\u001b[2K\u001b[5A\u001b[2K\u001b[5A\u001b[2K\u001b[5A\u001b[2K\u001b[5A\u001b[2K\u001b[5A\u001b[2K\u001b[5A\u001b[2K\u001b[5A\u001b[2K\u001b[5A\u001b[2K\u001b[5A\u001b[2K\u001b[5A\u001b[2K\u001b[5A\u001b[2K\u001b[5A\u001b[2K\u001b[5A\u001b[2K\u001b[5A\u001b[2K\u001b[5A\u001b[2K\u001b[5A\u001b[2K\u001b[5A\u001b[2K\u001b[5A\u001b[2K\u001b[5A\u001b[2K\u001b[5A\u001b[2K\u001b[5A\u001b[2K\u001b[5A\u001b[2K\u001b[5A\u001b[2K\u001b[5A\u001b[2K\u001b[5A\u001b[2K\u001b[5A\u001b[2Klatest: digest: sha256:0e199ef6d04c70b0246f8e8fec8c8fc0691c50643883dc1b332acfe859dea6d5 size: 3265\n"
     ]
    }
   ],
   "source": [
    "!docker push {aws_account_id}.dkr.ecr.{aws_region}.amazonaws.com/{repository_name}"
   ]
  },
  {
   "cell_type": "markdown",
   "id": "09121c39",
   "metadata": {},
   "source": [
    "### 创建 ECR 任务定义\n",
    "\n",
    "在这个 task definition 中我们定义了将日志传输到一个名为 ecs-gridsearch 日志组的配置。在运行任务之前，需要在 CloudWatch 控制台中创建这样的一个日志组："
   ]
  },
  {
   "cell_type": "code",
   "execution_count": 18,
   "id": "ea7bb69c",
   "metadata": {},
   "outputs": [
    {
     "data": {
      "text/plain": [
       "{'ResponseMetadata': {'RequestId': '49de0d68-be76-423c-830f-9db25083b99a',\n",
       "  'HTTPStatusCode': 200,\n",
       "  'HTTPHeaders': {'x-amzn-requestid': '49de0d68-be76-423c-830f-9db25083b99a',\n",
       "   'content-type': 'application/x-amz-json-1.1',\n",
       "   'content-length': '0',\n",
       "   'date': 'Thu, 09 Dec 2021 07:55:48 GMT'},\n",
       "  'RetryAttempts': 0}}"
      ]
     },
     "execution_count": 18,
     "metadata": {},
     "output_type": "execute_result"
    }
   ],
   "source": [
    "logs = boto3.client('logs')\n",
    "logs.create_log_group(logGroupName=repository_name)"
   ]
  },
  {
   "cell_type": "code",
   "execution_count": 19,
   "id": "8432dce5",
   "metadata": {},
   "outputs": [
    {
     "data": {
      "text/plain": [
       "{'taskDefinition': {'taskDefinitionArn': 'arn:aws:ecs:us-east-1:364198545638:task-definition/ecs-gridsearch:1',\n",
       "  'containerDefinitions': [{'name': 'ecs-gridsearch',\n",
       "    'image': '364198545638.dkr.ecr.us-east-1.amazonaws.com/ecs-gridsearch',\n",
       "    'cpu': 0,\n",
       "    'portMappings': [],\n",
       "    'essential': True,\n",
       "    'environment': [],\n",
       "    'mountPoints': [],\n",
       "    'volumesFrom': [],\n",
       "    'logConfiguration': {'logDriver': 'awslogs',\n",
       "     'options': {'awslogs-group': 'ecs-gridsearch',\n",
       "      'awslogs-region': 'us-east-1',\n",
       "      'awslogs-stream-prefix': 'ecs-gridsearch'}}}],\n",
       "  'family': 'ecs-gridsearch',\n",
       "  'executionRoleArn': 'arn:aws:iam::364198545638:role/ecsTaskExecutionRole',\n",
       "  'networkMode': 'awsvpc',\n",
       "  'revision': 1,\n",
       "  'volumes': [],\n",
       "  'status': 'ACTIVE',\n",
       "  'requiresAttributes': [{'name': 'com.amazonaws.ecs.capability.logging-driver.awslogs'},\n",
       "   {'name': 'ecs.capability.execution-role-awslogs'},\n",
       "   {'name': 'com.amazonaws.ecs.capability.ecr-auth'},\n",
       "   {'name': 'com.amazonaws.ecs.capability.docker-remote-api.1.19'},\n",
       "   {'name': 'ecs.capability.execution-role-ecr-pull'},\n",
       "   {'name': 'com.amazonaws.ecs.capability.docker-remote-api.1.18'},\n",
       "   {'name': 'ecs.capability.task-eni'}],\n",
       "  'placementConstraints': [],\n",
       "  'compatibilities': ['EC2', 'FARGATE'],\n",
       "  'requiresCompatibilities': ['FARGATE'],\n",
       "  'cpu': '1024',\n",
       "  'memory': '2048',\n",
       "  'registeredAt': datetime.datetime(2021, 12, 9, 7, 56, 22, 322000, tzinfo=tzlocal()),\n",
       "  'registeredBy': 'arn:aws:sts::364198545638:assumed-role/SageMakerExecutionRole/SageMaker'},\n",
       " 'ResponseMetadata': {'RequestId': '624f7a8d-7c65-4bbd-b4d3-f575cf8cad07',\n",
       "  'HTTPStatusCode': 200,\n",
       "  'HTTPHeaders': {'x-amzn-requestid': '624f7a8d-7c65-4bbd-b4d3-f575cf8cad07',\n",
       "   'content-type': 'application/x-amz-json-1.1',\n",
       "   'content-length': '1294',\n",
       "   'date': 'Thu, 09 Dec 2021 07:56:21 GMT'},\n",
       "  'RetryAttempts': 0}}"
      ]
     },
     "execution_count": 19,
     "metadata": {},
     "output_type": "execute_result"
    }
   ],
   "source": [
    "ecs.register_task_definition(\n",
    "    family=repository_name,\n",
    "    networkMode=\"awsvpc\",\n",
    "    executionRoleArn=\"arn:aws:iam::{}:role/ecsTaskExecutionRole\".format(aws_account_id),\n",
    "    containerDefinitions=[\n",
    "        {\n",
    "            \"name\": repository_name,\n",
    "            \"image\": \"{}.dkr.ecr.{}.amazonaws.com/{}\".format(aws_account_id, aws_region, repository_name),\n",
    "            \"essential\": True,\n",
    "            \"logConfiguration\": {\n",
    "                \"logDriver\": \"awslogs\",\n",
    "                \"options\": {\n",
    "                    \"awslogs-group\": repository_name,\n",
    "                    \"awslogs-region\": aws_region,\n",
    "                    \"awslogs-stream-prefix\": repository_name\n",
    "                }\n",
    "            },\n",
    "        },\n",
    "    ],\n",
    "    requiresCompatibilities=[\"FARGATE\"],\n",
    "    memory=\"2048\",\n",
    "    cpu=\"1024\"\n",
    ")"
   ]
  },
  {
   "cell_type": "markdown",
   "id": "71727c63",
   "metadata": {},
   "source": [
    "### 运行任务\n",
    "\n",
    "这里建议用私有子网和 no ingress 安全组来运行 ECS 任务："
   ]
  },
  {
   "cell_type": "code",
   "execution_count": 20,
   "id": "028f1790",
   "metadata": {},
   "outputs": [],
   "source": [
    "task_definition = \"arn:aws:ecs:us-east-1:364198545638:task-definition/ecs-gridsearch:1\"\n",
    "subnet1 = \"subnet-0a269e80a1bc0bfec\"\n",
    "subnet2 = \"subnet-02a4f4d29f7768343\"\n",
    "subnet3 = \"subnet-0cf156424a9f4df0f\"\n",
    "sg = \"sg-054a37871c9ace9f1\"\n",
    "\n",
    "task_role = \"arn:aws:iam::{}:role/ecsTaskRole\".format(aws_account_id)"
   ]
  },
  {
   "cell_type": "code",
   "execution_count": 21,
   "id": "d1977118",
   "metadata": {},
   "outputs": [
    {
     "name": "stdout",
     "output_type": "stream",
     "text": [
      "开始参数搜索，共 100 组参数:\n"
     ]
    }
   ],
   "source": [
    "print('开始参数搜索，共', num_trials, '组参数:')\n",
    "task_list = []\n",
    "for i in range(num_trials):\n",
    "    r = ecs.run_task(\n",
    "        cluster='algo-trading-workshop',\n",
    "        enableExecuteCommand=False,\n",
    "        group='family:{}'.format(repository_name),\n",
    "        launchType='FARGATE',\n",
    "        networkConfiguration={\n",
    "            'awsvpcConfiguration': {\n",
    "                'subnets': [subnet1, subnet2, subnet3],\n",
    "                'securityGroups': [sg]\n",
    "            }\n",
    "        },\n",
    "        overrides={\n",
    "            'containerOverrides': [\n",
    "                {\n",
    "                    'name': repository_name,\n",
    "                    'environment': [\n",
    "                        {\n",
    "                            'name': 'BUCKET',\n",
    "                            'value': bucket\n",
    "                        },\n",
    "                        {\n",
    "                            'name': 'PREFIX',\n",
    "                            'value': repository_name\n",
    "                        },\n",
    "                        {\n",
    "                            'name': 'TRIAL',\n",
    "                            'value': str(i+1)\n",
    "                        }\n",
    "                    ]\n",
    "                },\n",
    "            ],\n",
    "            'taskRoleArn': task_role\n",
    "        },\n",
    "        taskDefinition=task_definition\n",
    "    )\n",
    "    task_list.append(r['tasks'][0]['taskArn'])"
   ]
  },
  {
   "cell_type": "markdown",
   "id": "9399247f",
   "metadata": {},
   "source": [
    "我们可以用一些自定义的代码来跟踪任务的进展，或者通过控制台查看任务进度："
   ]
  },
  {
   "cell_type": "code",
   "execution_count": 22,
   "id": "43bf95aa",
   "metadata": {},
   "outputs": [
    {
     "name": "stdout",
     "output_type": "stream",
     "text": [
      "PROVISIONING JOBS: 4 PENDING JOBS: 37 RUNNING JOBS: 20 DEPROVISIONING JOBS: 16 STOPPED JOBS: 23\n",
      "PROVISIONING JOBS: 4 PENDING JOBS: 29 RUNNING JOBS: 20 DEPROVISIONING JOBS: 13 STOPPED JOBS: 34\n",
      "PROVISIONING JOBS: 2 PENDING JOBS: 25 RUNNING JOBS: 17 DEPROVISIONING JOBS: 19 STOPPED JOBS: 37\n",
      "PROVISIONING JOBS: 2 PENDING JOBS: 20 RUNNING JOBS: 13 DEPROVISIONING JOBS: 21 STOPPED JOBS: 44\n",
      "PROVISIONING JOBS: 2 PENDING JOBS: 11 RUNNING JOBS: 15 DEPROVISIONING JOBS: 19 STOPPED JOBS: 53\n",
      "PROVISIONING JOBS: 1 PENDING JOBS: 10 RUNNING JOBS: 13 DEPROVISIONING JOBS: 13 STOPPED JOBS: 63\n",
      "PROVISIONING JOBS: 0 PENDING JOBS: 8 RUNNING JOBS: 7 DEPROVISIONING JOBS: 17 STOPPED JOBS: 68\n",
      "PROVISIONING JOBS: 0 PENDING JOBS: 7 RUNNING JOBS: 4 DEPROVISIONING JOBS: 15 STOPPED JOBS: 74\n",
      "PROVISIONING JOBS: 0 PENDING JOBS: 5 RUNNING JOBS: 4 DEPROVISIONING JOBS: 10 STOPPED JOBS: 81\n",
      "PROVISIONING JOBS: 0 PENDING JOBS: 4 RUNNING JOBS: 4 DEPROVISIONING JOBS: 4 STOPPED JOBS: 88\n",
      "PROVISIONING JOBS: 0 PENDING JOBS: 1 RUNNING JOBS: 6 DEPROVISIONING JOBS: 4 STOPPED JOBS: 89\n",
      "PROVISIONING JOBS: 0 PENDING JOBS: 0 RUNNING JOBS: 4 DEPROVISIONING JOBS: 4 STOPPED JOBS: 92\n",
      "PROVISIONING JOBS: 0 PENDING JOBS: 0 RUNNING JOBS: 1 DEPROVISIONING JOBS: 7 STOPPED JOBS: 92\n",
      "PROVISIONING JOBS: 0 PENDING JOBS: 0 RUNNING JOBS: 0 DEPROVISIONING JOBS: 6 STOPPED JOBS: 94\n",
      "PROVISIONING JOBS: 0 PENDING JOBS: 0 RUNNING JOBS: 0 DEPROVISIONING JOBS: 2 STOPPED JOBS: 98\n",
      "PROVISIONING JOBS: 0 PENDING JOBS: 0 RUNNING JOBS: 0 DEPROVISIONING JOBS: 0 STOPPED JOBS: 100\n"
     ]
    }
   ],
   "source": [
    "import time\n",
    "\n",
    "r = ecs.describe_tasks(cluster='algo-trading-workshop', tasks=task_list)\n",
    "stopped_count = 0\n",
    "while stopped_count < num_trials:\n",
    "    pending_count = 0\n",
    "    provision_count = 0\n",
    "    running_count = 0\n",
    "    deprovision_count = 0\n",
    "    stopped_count = 0\n",
    "    for i in range(len(r['tasks'])):\n",
    "        if r['tasks'][i]['lastStatus'] == 'PROVISIONING':\n",
    "            provision_count += 1\n",
    "        elif r['tasks'][i]['lastStatus'] == 'PENDING':\n",
    "            pending_count += 1\n",
    "        elif r['tasks'][i]['lastStatus'] == 'RUNNING':\n",
    "            running_count += 1\n",
    "        elif r['tasks'][i]['lastStatus'] == 'DEPROVISIONING':\n",
    "            deprovision_count += 1\n",
    "        elif r['tasks'][i]['lastStatus'] == 'STOPPED':\n",
    "            stopped_count += 1\n",
    "    print('PROVISIONING JOBS:', provision_count, 'PENDING JOBS:', pending_count, 'RUNNING JOBS:', running_count, 'DEPROVISIONING JOBS:', deprovision_count, 'STOPPED JOBS:', stopped_count)\n",
    "    time.sleep(5)\n",
    "    r = ecs.describe_tasks(cluster='algo-trading-workshop', tasks=task_list)"
   ]
  },
  {
   "cell_type": "markdown",
   "id": "9a5710c6",
   "metadata": {},
   "source": [
    "task 的日志结果可以在 CloudWatch 中查看。接下来，我们可以获取回测的结果到一个 DataFrame 中，并通过 heat map 进行可视化："
   ]
  },
  {
   "cell_type": "code",
   "execution_count": 23,
   "id": "7977cffd",
   "metadata": {},
   "outputs": [
    {
     "data": {
      "text/html": [
       "<div>\n",
       "<style scoped>\n",
       "    .dataframe tbody tr th:only-of-type {\n",
       "        vertical-align: middle;\n",
       "    }\n",
       "\n",
       "    .dataframe tbody tr th {\n",
       "        vertical-align: top;\n",
       "    }\n",
       "\n",
       "    .dataframe thead th {\n",
       "        text-align: right;\n",
       "    }\n",
       "</style>\n",
       "<table border=\"1\" class=\"dataframe\">\n",
       "  <thead>\n",
       "    <tr style=\"text-align: right;\">\n",
       "      <th></th>\n",
       "      <th>fastmaperiod</th>\n",
       "      <th>slowmaperiod</th>\n",
       "      <th>accountvalue</th>\n",
       "      <th>return</th>\n",
       "    </tr>\n",
       "  </thead>\n",
       "  <tbody>\n",
       "    <tr>\n",
       "      <th>50</th>\n",
       "      <td>7</td>\n",
       "      <td>20</td>\n",
       "      <td>242489.445683</td>\n",
       "      <td>1.424894</td>\n",
       "    </tr>\n",
       "    <tr>\n",
       "      <th>67</th>\n",
       "      <td>8</td>\n",
       "      <td>17</td>\n",
       "      <td>240377.537246</td>\n",
       "      <td>1.403775</td>\n",
       "    </tr>\n",
       "    <tr>\n",
       "      <th>84</th>\n",
       "      <td>9</td>\n",
       "      <td>14</td>\n",
       "      <td>234396.734810</td>\n",
       "      <td>1.343967</td>\n",
       "    </tr>\n",
       "    <tr>\n",
       "      <th>48</th>\n",
       "      <td>7</td>\n",
       "      <td>18</td>\n",
       "      <td>232683.832013</td>\n",
       "      <td>1.326838</td>\n",
       "    </tr>\n",
       "    <tr>\n",
       "      <th>68</th>\n",
       "      <td>8</td>\n",
       "      <td>18</td>\n",
       "      <td>230094.815229</td>\n",
       "      <td>1.300948</td>\n",
       "    </tr>\n",
       "  </tbody>\n",
       "</table>\n",
       "</div>"
      ],
      "text/plain": [
       "    fastmaperiod  slowmaperiod   accountvalue    return\n",
       "50             7            20  242489.445683  1.424894\n",
       "67             8            17  240377.537246  1.403775\n",
       "84             9            14  234396.734810  1.343967\n",
       "48             7            18  232683.832013  1.326838\n",
       "68             8            18  230094.815229  1.300948"
      ]
     },
     "execution_count": 23,
     "metadata": {},
     "output_type": "execute_result"
    }
   ],
   "source": [
    "import pandas as pd\n",
    "\n",
    "result = []\n",
    "for i in range(num_trials):\n",
    "    key = '{}/trial_{}/input/params.json'.format(repository_name, str(i+1))\n",
    "    params = json.loads(s3.get_object(Bucket=bucket, Key=key)['Body'].read())\n",
    "    key = '{}/trial_{}/output/output.json'.format(repository_name, str(i+1))\n",
    "    output = json.loads(s3.get_object(Bucket=bucket, Key=key)['Body'].read())\n",
    "    result.append(list(params.values()) + list(output.values()))\n",
    "\n",
    "result = pd.DataFrame(result, columns=['fastmaperiod', 'slowmaperiod', 'accountvalue', 'return'])\n",
    "result = result.sort_values(['return'], ascending=False)\n",
    "result.head()"
   ]
  },
  {
   "cell_type": "code",
   "execution_count": 24,
   "id": "9b9eb32b",
   "metadata": {},
   "outputs": [
    {
     "data": {
      "text/plain": [
       "<matplotlib.axes._subplots.AxesSubplot at 0x7f57403c4ba8>"
      ]
     },
     "execution_count": 24,
     "metadata": {},
     "output_type": "execute_result"
    },
    {
     "data": {
      "image/png": "[encoded data removed]",
      "text/plain": [
       "<Figure size 432x288 with 2 Axes>"
      ]
     },
     "metadata": {
      "needs_background": "light"
     },
     "output_type": "display_data"
    }
   ],
   "source": [
    "import seaborn\n",
    "\n",
    "seaborn.heatmap(result.pivot('fastmaperiod', 'slowmaperiod', 'return'), cmap=\"Greens\")"
   ]
  },
  {
   "cell_type": "code",
   "execution_count": null,
   "id": "6f563f32",
   "metadata": {},
   "outputs": [],
   "source": []
  }
 ],
 "metadata": {
  "kernelspec": {
   "display_name": "conda_python3",
   "language": "python",
   "name": "conda_python3"
  },
  "language_info": {
   "codemirror_mode": {
    "name": "ipython",
    "version": 3
   },
   "file_extension": ".py",
   "mimetype": "text/x-python",
   "name": "python",
   "nbconvert_exporter": "python",
   "pygments_lexer": "ipython3",
   "version": "3.6.13"
  }
 },
 "nbformat": 4,
 "nbformat_minor": 5
}
