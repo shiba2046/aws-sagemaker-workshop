{
 "cells": [
  {
   "cell_type": "code",
   "execution_count": 5,
   "id": "26c4ce2d",
   "metadata": {},
   "outputs": [],
   "source": [
    "my_name = 'peng'\n",
    "aws_region = 'us-east-1'\n",
    "bucket = 'algo-trading-workshop-{}'.format(my_name)"
   ]
  },
  {
   "cell_type": "code",
   "execution_count": 2,
   "id": "f7b1402b",
   "metadata": {},
   "outputs": [
    {
     "name": "stdout",
     "output_type": "stream",
     "text": [
      "Requirement already satisfied: botocore in /home/ec2-user/anaconda3/envs/python3/lib/python3.6/site-packages (1.23.4)\n",
      "Requirement already satisfied: boto3 in /home/ec2-user/anaconda3/envs/python3/lib/python3.6/site-packages (1.20.4)\n",
      "Requirement already satisfied: jmespath<1.0.0,>=0.7.1 in /home/ec2-user/anaconda3/envs/python3/lib/python3.6/site-packages (from botocore) (0.10.0)\n",
      "Requirement already satisfied: python-dateutil<3.0.0,>=2.1 in /home/ec2-user/anaconda3/envs/python3/lib/python3.6/site-packages (from botocore) (2.8.2)\n",
      "Requirement already satisfied: urllib3<1.27,>=1.25.4 in /home/ec2-user/anaconda3/envs/python3/lib/python3.6/site-packages (from botocore) (1.26.7)\n",
      "Requirement already satisfied: s3transfer<0.6.0,>=0.5.0 in /home/ec2-user/anaconda3/envs/python3/lib/python3.6/site-packages (from boto3) (0.5.0)\n",
      "Requirement already satisfied: six>=1.5 in /home/ec2-user/anaconda3/envs/python3/lib/python3.6/site-packages (from python-dateutil<3.0.0,>=2.1->botocore) (1.16.0)\n",
      "\u001b[33mWARNING: You are using pip version 21.2.4; however, version 21.3.1 is available.\n",
      "You should consider upgrading via the '/home/ec2-user/anaconda3/envs/python3/bin/python -m pip install --upgrade pip' command.\u001b[0m\n",
      "Name: boto3\n",
      "Version: 1.20.4\n",
      "Summary: The AWS SDK for Python\n",
      "Home-page: https://github.com/boto/boto3\n",
      "Author: Amazon Web Services\n",
      "Author-email: \n",
      "License: Apache License 2.0\n",
      "Location: /home/ec2-user/anaconda3/envs/python3/lib/python3.6/site-packages\n",
      "Requires: botocore, s3transfer, jmespath\n",
      "Required-by: smdebug, smclarify, sagemaker\n"
     ]
    }
   ],
   "source": [
    "!pip install botocore boto3\n",
    "!pip show boto3"
   ]
  },
  {
   "cell_type": "code",
   "execution_count": 7,
   "id": "f98b507c",
   "metadata": {},
   "outputs": [
    {
     "name": "stdout",
     "output_type": "stream",
     "text": [
      "copy: s3://stock-public-data/stock_day.csv to s3://algo-trading-workshop-peng/raw/stock_day.csv\n"
     ]
    }
   ],
   "source": [
    "table = 'stock_day'\n",
    "database = 'stock-data'\n",
    "\n",
    "!aws s3 cp s3://stock-public-data/{table}.csv s3://{bucket}/raw/{table}.csv --request-payer requester --region {aws_region}"
   ]
  },
  {
   "cell_type": "code",
   "execution_count": null,
   "id": "e5b14ea5",
   "metadata": {},
   "outputs": [],
   "source": []
  }
 ],
 "metadata": {
  "kernelspec": {
   "display_name": "conda_python3",
   "language": "python",
   "name": "conda_python3"
  },
  "language_info": {
   "codemirror_mode": {
    "name": "ipython",
    "version": 3
   },
   "file_extension": ".py",
   "mimetype": "text/x-python",
   "name": "python",
   "nbconvert_exporter": "python",
   "pygments_lexer": "ipython3",
   "version": "3.6.13"
  }
 },
 "nbformat": 4,
 "nbformat_minor": 5
}
